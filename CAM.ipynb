{
 "cells": [
  {
   "cell_type": "code",
   "execution_count": null,
   "metadata": {},
   "outputs": [],
   "source": [
    "# colab에서 드라이브 내 폴더 사용 위해 마운트\n",
    "# from google.colab import drive\n",
    "\n",
    "# drive.mount('/content/drive/')\n",
    "\n",
    "# 폴더까지의 경로\n",
    "# cd '/content/drive/MyDrive/GSA_Creative_Resarch/rock_sci_paper'"
   ]
  },
  {
   "cell_type": "code",
   "execution_count": null,
   "metadata": {},
   "outputs": [],
   "source": [
    "import os\n",
    "import torch\n",
    "import torchvision.transforms as transforms\n",
    "import dataset\n",
    "import model\n",
    "import torch.nn.functional as F\n"
   ]
  },
  {
   "cell_type": "code",
   "execution_count": null,
   "metadata": {},
   "outputs": [],
   "source": [
    "# 각종 path및 하이퍼 파라미터 설정\n",
    "data_path = ''\n",
    "save_path = ''\n",
    "batch_size = 16\n",
    "seed = 0"
   ]
  },
  {
   "cell_type": "code",
   "execution_count": null,
   "metadata": {},
   "outputs": [],
   "source": [
    "# seed 설정\n",
    "torch.manual_seed(seed)\n",
    "torch.cuda.manual_seed_all(seed)\n",
    "\n",
    "# device 설정\n",
    "device = 'cuda' if torch.cuda.is_available() else 'cpu'"
   ]
  },
  {
   "cell_type": "code",
   "execution_count": null,
   "metadata": {},
   "outputs": [],
   "source": [
    "test_transform = transforms.Compose([\n",
    "    transforms.ToPILImage(),\n",
    "    transforms.Resize((128,128)),\n",
    "    transforms.ToTensor(),\n",
    "    transforms.Normalize((0.5,0.5,0.5),(0.5,0.5,0.5))]\n",
    ")\n",
    "\n",
    "vis_transform = transforms.Compose([\n",
    "    transforms.ToPILImage(),\n",
    "    transforms.Resize((128,128))]\n",
    ")\n",
    "\n",
    "test_dataset = dataset.RockScissorsPaper(\n",
    "    transform=test_transform,\n",
    "    path = data_path,\n",
    "    mode = 'test'\n",
    ")\n",
    "test_vis = dataset.RockScissorsPaper(\n",
    "    transform=vis_transform,\n",
    "    path = data_path,\n",
    "    mode = 'test'\n",
    ")"
   ]
  },
  {
   "cell_type": "code",
   "execution_count": null,
   "metadata": {},
   "outputs": [],
   "source": [
    "model = model.ResNet18(num_classes=3)\n",
    "model = model.to(device)\n",
    "\n",
    "# model.load_state_dict(torch.load(os.path.join(save_path, 'lr_teacher.pth')))\n",
    "model.load_state_dict(torch.load(os.path.join(save_path, 'student.pth')))"
   ]
  },
  {
   "cell_type": "code",
   "execution_count": null,
   "metadata": {},
   "outputs": [],
   "source": [
    "index = 16\n",
    "sample, label = test_dataset[index]\n",
    "vis_sample, _ = test_vis[index]\n",
    "\n",
    "h,w = sample.shape[-2], sample.shape[-1]\n",
    "sample = F.interpolate(sample.unsqueeze(0), (h//8, w//8))\n",
    "sample = F.interpolate(sample, (h,w))\n",
    "sample = sample.squeeze()\n",
    "\n",
    "vis_sample = vis_sample.resize((16,16))\n",
    "vis_sample = vis_sample.resize((128,128))"
   ]
  },
  {
   "cell_type": "code",
   "execution_count": null,
   "metadata": {},
   "outputs": [],
   "source": [
    "import matplotlib.pyplot as plt\n",
    "\n",
    "plt.imshow(vis_sample)\n",
    "plt.axis('off')\n",
    "plt.show()\n",
    "\n",
    "label_dict = {0:'rock', 1:'scissor', 2:'paper'}\n",
    "print('label is ', label_dict[label])"
   ]
  },
  {
   "cell_type": "code",
   "execution_count": null,
   "metadata": {},
   "outputs": [],
   "source": [
    "# sample 이미지를 모델에 넣을 수 있도록 차원을 조정\n",
    "sample = sample.unsqueeze(0).to(device)\n",
    "\n",
    "# model을 eval 모드로 전환\n",
    "model.eval()\n",
    "output, f4, _, _, _ = model(sample)\n",
    "_, pred = torch.max(output, 1)\n",
    "print(\"Prediction is \", label_dict[pred.item()])\n",
    "\n",
    "# Class Activation Map(CAM) 생성\n",
    "# CAM은 마지막 단의 피쳐와 클래스 분류하는데 사용되는 Fully Connected Layer의 weight를 이용하여 생성\n",
    "\n",
    "# 모델에서 마지막단을 Flatten하여 h*w 값을 가지기 때문에 루트 씌워서 각각의 height, width를 구함\n",
    "h, w = int(f4.shape[-1]**0.5), int(f4.shape[-1]**0.5)\n",
    "weights = list(model.parameters())[-2].data\n",
    "\n",
    "# Prediction한 클래스의 Activation Map을 확인하기 위해 전체 weight 중 해당 클래스의 것만 가져옴\n",
    "weight = weights[pred.item()]\n",
    "weight = weight.unsqueeze(0).unsqueeze(0)\n",
    "cam = torch.bmm(weight, f4)\n",
    "cam = torch.reshape(cam, (1, h, w))\n",
    "\n",
    "# Min/Max Normalization\n",
    "cam = cam - torch.min(cam)\n",
    "cam = cam / torch.max(cam)\n",
    "cam = cam.unsqueeze(1)\n",
    "\n",
    "cam = F.interpolate(cam, size=(128,128))"
   ]
  },
  {
   "cell_type": "code",
   "execution_count": null,
   "metadata": {},
   "outputs": [],
   "source": [
    "cam = cam.detach().cpu().numpy()\n",
    "plt.imshow(cam[0].reshape(128,128,1))\n",
    "plt.show()"
   ]
  }
 ],
 "metadata": {
  "kernelspec": {
   "display_name": "fskd",
   "language": "python",
   "name": "python3"
  },
  "language_info": {
   "codemirror_mode": {
    "name": "ipython",
    "version": 3
   },
   "file_extension": ".py",
   "mimetype": "text/x-python",
   "name": "python",
   "nbconvert_exporter": "python",
   "pygments_lexer": "ipython3",
   "version": "3.7.16"
  },
  "orig_nbformat": 4
 },
 "nbformat": 4,
 "nbformat_minor": 2
}

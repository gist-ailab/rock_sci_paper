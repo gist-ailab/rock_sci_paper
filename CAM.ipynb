{
 "cells": [
  {
   "cell_type": "code",
   "execution_count": null,
   "metadata": {},
   "outputs": [],
   "source": [
    "import os\n",
    "import torch\n",
    "import torch.nn as nn\n",
    "import torch.optim as optim\n",
    "import torchvision.transforms as transforms\n",
    "from torch.utils.data import DataLoader\n",
    "import dataset\n",
    "import model\n",
    "import torch.nn.functional as F\n",
    "import cv2"
   ]
  },
  {
   "cell_type": "code",
   "execution_count": null,
   "metadata": {},
   "outputs": [],
   "source": [
    "# 각종 path및 하이퍼 파라미터 설정\n",
    "data_path = 'C:\\\\Users\\\\USER\\\\Desktop\\\\GSH_CRP\\\\codes\\\\rock_sci_paper\\\\data\\\\ro_sci_pa_heo'\n",
    "save_path = 'C:\\\\Users\\\\USER\\\\Desktop\\\\GSH_CRP\\\\codes\\\\rock_sci_paper\\\\model_para'\n",
    "batch_size = 16\n",
    "seed = 0\n",
    "mode = 'hr'"
   ]
  },
  {
   "cell_type": "code",
   "execution_count": null,
   "metadata": {},
   "outputs": [],
   "source": [
    "# seed 설정\n",
    "torch.manual_seed(seed)\n",
    "torch.cuda.manual_seed_all(seed)\n",
    "\n",
    "# device 설정\n",
    "device = 'cuda' if torch.cuda.is_available() else 'cpu'"
   ]
  },
  {
   "cell_type": "code",
   "execution_count": null,
   "metadata": {},
   "outputs": [],
   "source": [
    "test_transform = transforms.Compose([\n",
    "    transforms.ToPILImage(),\n",
    "    transforms.Resize((256,256)),\n",
    "    transforms.ToTensor(),\n",
    "    transforms.Normalize((0.5,0.5,0.5),(0.5,0.5,0.5))]\n",
    ")"
   ]
  },
  {
   "cell_type": "code",
   "execution_count": null,
   "metadata": {},
   "outputs": [],
   "source": [
    "test_dataset = dataset.RockScissorsPaper(\n",
    "    transform=test_transform,\n",
    "    path = data_path,\n",
    "    mode = 'test'\n",
    ")"
   ]
  },
  {
   "cell_type": "code",
   "execution_count": null,
   "metadata": {},
   "outputs": [],
   "source": [
    "model = model.ResNet18(num_classes=3)\n",
    "model = model.to(device)\n",
    "\n",
    "model.load_state_dict(torch.load(os.path.join(save_path, 'student.pth')))"
   ]
  },
  {
   "cell_type": "code",
   "execution_count": null,
   "metadata": {},
   "outputs": [],
   "source": [
    "index = 12\n",
    "sample, label = test_dataset[index]\n",
    "\n",
    "print(sample.shape)\n",
    "h,w = sample.shape[-2], sample.shape[-1]\n",
    "sample = F.interpolate(sample.unsqueeze(0), (h//8, w//8))\n",
    "sample = F.interpolate(sample, (h,w))\n",
    "sample = sample.squeeze()\n",
    "print(sample.shape)"
   ]
  },
  {
   "cell_type": "code",
   "execution_count": null,
   "metadata": {},
   "outputs": [],
   "source": [
    "\n",
    "sample2 = sample.permute(1,2,0)\n",
    "# sample2 = cv2.resize(sample2.numpy(), dsize=(32,32), interpolation=cv2.INTER_CUBIC)\n",
    "print(sample2.shape)"
   ]
  },
  {
   "cell_type": "code",
   "execution_count": null,
   "metadata": {},
   "outputs": [],
   "source": [
    "import matplotlib.pyplot as plt\n",
    "\n",
    "plt.imshow(sample2)\n",
    "plt.show()"
   ]
  },
  {
   "cell_type": "code",
   "execution_count": null,
   "metadata": {},
   "outputs": [],
   "source": [
    "sample = sample.unsqueeze(0).to(device)\n",
    "\n",
    "output, f4, _, _, _ = model(sample)\n",
    "\n",
    "h, w = int(f4.shape[-1]**0.5), int(f4.shape[-1]**0.5)\n",
    "weights = list(model.parameters())[-2].data\n",
    "\n",
    "weight = weights[label]\n",
    "weight = weight.unsqueeze(0).unsqueeze(0)\n",
    "print(weight.shape)\n",
    "print(f4.shape)\n",
    "cam = torch.bmm(weight, f4)\n",
    "cam = torch.reshape(cam, (1, h, w))\n",
    "cam = cam - torch.min(cam)\n",
    "cam = cam / torch.max(cam)\n",
    "cam = cam.unsqueeze(1)\n",
    "cam = F.interpolate(cam, size=(256,256))\n",
    "print(cam.shape)"
   ]
  },
  {
   "cell_type": "code",
   "execution_count": null,
   "metadata": {},
   "outputs": [],
   "source": [
    "cam = cam.detach().cpu().numpy()\n",
    "plt.imshow(cam[0].reshape(256,256,1))\n",
    "plt.show()"
   ]
  }
 ],
 "metadata": {
  "kernelspec": {
   "display_name": "fskd",
   "language": "python",
   "name": "python3"
  },
  "language_info": {
   "codemirror_mode": {
    "name": "ipython",
    "version": 3
   },
   "file_extension": ".py",
   "mimetype": "text/x-python",
   "name": "python",
   "nbconvert_exporter": "python",
   "pygments_lexer": "ipython3",
   "version": "3.7.16"
  },
  "orig_nbformat": 4
 },
 "nbformat": 4,
 "nbformat_minor": 2
}
